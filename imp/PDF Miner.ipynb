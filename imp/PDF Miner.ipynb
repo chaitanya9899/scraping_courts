{
 "cells": [
  {
   "cell_type": "code",
   "execution_count": 1,
   "metadata": {},
   "outputs": [],
   "source": [
    "import mysql.connector\n",
    "from io import StringIO\n",
    "from pdfminer.pdfinterp import PDFResourceManager, PDFPageInterpreter\n",
    "from pdfminer.converter import TextConverter\n",
    "from pdfminer.layout import LAParams\n",
    "from pdfminer.pdfpage import PDFPage\n",
    "import os\n",
    "import time"
   ]
  },
  {
   "cell_type": "markdown",
   "metadata": {},
   "source": [
    "Creating new mysql connection and cursor to database"
   ]
  },
  {
   "cell_type": "code",
   "execution_count": 2,
   "metadata": {},
   "outputs": [],
   "source": [
    "def make_connection():\n",
    "    global cnx\n",
    "    global cursor\n",
    "    \n",
    "    cnx = mysql.connector.connect(\n",
    "      host=\"localhost\",\n",
    "      user=\"root\",\n",
    "      password=\"root\",\n",
    "      database=\"court_case_journal\",\n",
    "      auth_plugin=\"mysql_native_password\"\n",
    "    )\n",
    "    cursor = cnx.cursor()"
   ]
  },
  {
   "cell_type": "code",
   "execution_count": 3,
   "metadata": {},
   "outputs": [],
   "source": [
    "def break_connection():\n",
    "    cursor.close()\n",
    "    cnx.close()"
   ]
  },
  {
   "cell_type": "markdown",
   "metadata": {},
   "source": [
    "Insert PDF file data"
   ]
  },
  {
   "cell_type": "code",
   "execution_count": 4,
   "metadata": {},
   "outputs": [],
   "source": [
    "def insert_record(filename, textdata):\n",
    "    #SQL command\n",
    "    add_file = (\"INSERT INTO pdf \"\n",
    "               \"(filename, textdata) \"\n",
    "               \"VALUES (%s, %s)\")\n",
    "    args = (filename, textdata)\n",
    "\n",
    "\n",
    "    cursor.execute(add_file, args)\n",
    "\n",
    "    if cursor.lastrowid:\n",
    "        msg = \"last insert id {fileid}: {filename}\".format(fileid = cursor.lastrowid, filename = filename)\n",
    "        #print(msg)\n",
    "    else:\n",
    "        print(filename + 'not inserted')\n",
    "\n",
    "    cnx.commit()"
   ]
  },
  {
   "cell_type": "markdown",
   "metadata": {},
   "source": [
    "Conversion of pdf to text"
   ]
  },
  {
   "cell_type": "code",
   "execution_count": 5,
   "metadata": {},
   "outputs": [],
   "source": [
    "def convert(infile, pages=None):\n",
    "    if not pages:\n",
    "        pagenums = set()\n",
    "    else:\n",
    "        pagenums = set(pages)\n",
    "\n",
    "    output = StringIO()\n",
    "    manager = PDFResourceManager()\n",
    "    converter = TextConverter(manager, output, laparams=LAParams())\n",
    "    interpreter = PDFPageInterpreter(manager, converter)\n",
    "\n",
    "    for page in PDFPage.get_pages(infile, pagenums):\n",
    "        interpreter.process_page(page)\n",
    "    converter.close()\n",
    "    text = output.getvalue()\n",
    "    output.close\n",
    "    return text"
   ]
  },
  {
   "cell_type": "code",
   "execution_count": 6,
   "metadata": {},
   "outputs": [],
   "source": [
    "def get_record(filename):\n",
    "    cmd = \"SELECT * FROM pdf WHERE filename=%s\"\n",
    "    file = (filename,)\n",
    "    cursor.execute(cmd, file)\n",
    "    data = cursor.fetchall()\n",
    "    if len(data) == 0:\n",
    "        return False\n",
    "    else:\n",
    "        return True"
   ]
  },
  {
   "cell_type": "markdown",
   "metadata": {},
   "source": [
    "**Extraction of PDF and storing in database**"
   ]
  },
  {
   "cell_type": "code",
   "execution_count": 6,
   "metadata": {},
   "outputs": [],
   "source": [
    "def extractText(path):\n",
    "    total = 0\n",
    "    for filename in os.listdir(path):\n",
    "        with open(os.path.join(path, filename), 'rb') as file:\n",
    "            try:\n",
    "                isPresent = False#get_record(filename)\n",
    "                \n",
    "                if isPresent==False:\n",
    "                    extracted_text = convert(file)\n",
    "                    insert_record(filename, extracted_text)\n",
    "                    total = total+1\n",
    "                else:\n",
    "                    print(filename + \" already inserted\")\n",
    "            except Error:\n",
    "                print(\"error\")\n",
    "            \n",
    "    print(total)"
   ]
  },
  {
   "cell_type": "code",
   "execution_count": 8,
   "metadata": {},
   "outputs": [
    {
     "name": "stdout",
     "output_type": "stream",
     "text": [
      "72\n",
      "Local current time : time.struct_time(tm_year=2020, tm_mon=11, tm_mday=18, tm_hour=17, tm_min=26, tm_sec=46, tm_wday=2, tm_yday=323, tm_isdst=0)\n"
     ]
    }
   ],
   "source": [
    "if __name__ == '__main__':\n",
    "    make_connection()\n",
    "    extractText(\"E:\\save\\malay\\KudosWare\\Data\\Data\")\n",
    "    break_connection()\n",
    "    localtime = time.localtime(time.time())\n",
    "    print (\"Local current time :\", localtime)\n",
    "    #os.system(\"shutdown /s /t 1\")"
   ]
  }
 ],
 "metadata": {
  "kernelspec": {
   "display_name": "Python 3",
   "language": "python",
   "name": "python3"
  },
  "language_info": {
   "codemirror_mode": {
    "name": "ipython",
    "version": 3
   },
   "file_extension": ".py",
   "mimetype": "text/x-python",
   "name": "python",
   "nbconvert_exporter": "python",
   "pygments_lexer": "ipython3",
   "version": "3.7.4"
  }
 },
 "nbformat": 4,
 "nbformat_minor": 4
}
