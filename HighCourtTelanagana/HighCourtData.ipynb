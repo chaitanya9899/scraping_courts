{
 "cells": [
  {
   "cell_type": "code",
   "execution_count": 1,
   "metadata": {},
   "outputs": [],
   "source": [
    "import pandas as pd\n",
    "import numpy as np\n",
    "\n",
    "import bs4\n",
    "from urllib.request import urlopen\n",
    "from bs4 import BeautifulSoup\n",
    "\n",
    "from time import sleep\n",
    "from selenium import webdriver\n",
    "from selenium.webdriver.common.keys import Keys\n",
    "from webdriver_manager.chrome import ChromeDriverManager"
   ]
  },
  {
   "cell_type": "code",
   "execution_count": 2,
   "metadata": {},
   "outputs": [],
   "source": [
    "def pdfdownload(url,filename):\n",
    "    import urllib.request\n",
    "    pdf_path =url #\"http://distcourts.tap.nic.in/hcorders/2014/arbappl/arbappl_132_2014.pdf\"\n",
    "    response = urllib.request.urlopen(url)    \n",
    "    file = open(\"E:/pdffiles/PdfDocument Scarping2\"+filename+\".pdf\", 'wb')\n",
    "    file.write(response.read())\n",
    "    file.close()"
   ]
  },
  {
   "cell_type": "code",
   "execution_count": 3,
   "metadata": {},
   "outputs": [],
   "source": [
    "def Main(FromDate,ToDate):\n",
    "    driver=webdriver.Chrome(ChromeDriverManager().install())\n",
    "    driver.maximize_window()\n",
    "    driver.get(\"http://distcourts.tap.nic.in/judgmnt_ts/#\")\n",
    "\n",
    "    sleep(2)\n",
    "\n",
    "    driver.find_element_by_xpath(\"/html/body/form/div/div[2]/div/div/div/div/div[1]/section/div[1]/div[1]/div[2]/ul/li[4]/a\").click()\n",
    "    #driver.find_element_by_id(\"txtPINCode\").clear()\n",
    "    driver.find_element_by_id(\"frmdto\").send_keys(FromDate)\n",
    "    #driver.find_element_by_xpath(\"/html/body/form/div/div[2]/div/div/div/div/div[2]/div/section/div/div[1]/div[5]/center/div/table/thead/tr[2]/td/input\").click()\n",
    "    driver.find_element_by_id(\"todto\").send_keys(ToDate)\n",
    "\n",
    "    driver.find_element_by_xpath(\"/html/body/form/div/div[2]/div/div/div/div/div[2]/div/section/div/div[1]/div[5]/center/div/table/thead/tr[4]/td/select/option[3]\").click()\n",
    "    sleep(2)\n",
    "\n",
    "    driver.find_element_by_id(\"searchtwofour\").click()\n",
    "\n",
    "    sleep(5)\n",
    "    page_source = driver.page_source\n",
    "    soup1 = BeautifulSoup(page_source, 'lxml')\n",
    "    type(soup1)\n",
    "    bs4.BeautifulSoup\n",
    "    title = soup1.title\n",
    "\n",
    "\n",
    "    PDF_file_Table_tag=soup1.find_all(\"table\",{\"id\":\"inftable\"})[0]\n",
    "\n",
    "    tr_tag=PDF_file_Table_tag.find_all(\"tr\")\n",
    "    print(len(tr_tag))\n",
    "\n",
    "    for i in range(2,len(tr_tag)):\n",
    "\n",
    "        td_tag=tr_tag[i].find_all(\"td\")[5]\n",
    "        try:\n",
    "            a_tag_url=td_tag.find(\"a\")[\"href\"]\n",
    "            print(str(i-1)+\")\"+a_tag_url)\n",
    "            pdfdownload(a_tag_url,\"Document\"+str(i-1))\n",
    "        except:\n",
    "            print(\"No Document\")\n",
    "\n"
   ]
  },
  {
   "cell_type": "markdown",
   "metadata": {},
   "source": [
    "Main(\"10-02-2021\",\"13-02-2021\")"
   ]
  },
  {
   "cell_type": "code",
   "execution_count": null,
   "metadata": {},
   "outputs": [],
   "source": []
  },
  {
   "cell_type": "code",
   "execution_count": null,
   "metadata": {},
   "outputs": [],
   "source": []
  }
 ],
 "metadata": {
  "kernelspec": {
   "display_name": "Python 3",
   "language": "python",
   "name": "python3"
  },
  "language_info": {
   "codemirror_mode": {
    "name": "ipython",
    "version": 3
   },
   "file_extension": ".py",
   "mimetype": "text/x-python",
   "name": "python",
   "nbconvert_exporter": "python",
   "pygments_lexer": "ipython3",
   "version": "3.8.3"
  }
 },
 "nbformat": 4,
 "nbformat_minor": 4
}
