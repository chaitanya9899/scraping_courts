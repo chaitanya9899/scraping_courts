{
 "cells": [
  {
   "cell_type": "code",
   "execution_count": 1,
   "metadata": {},
   "outputs": [],
   "source": [
    "import pandas as pd\n",
    "import numpy as np\n",
    "\n",
    "import bs4\n",
    "from urllib.request import urlopen\n",
    "from bs4 import BeautifulSoup\n",
    "\n",
    "from time import sleep\n",
    "from selenium import webdriver\n",
    "from selenium.webdriver.common.keys import Keys\n",
    "from webdriver_manager.chrome import ChromeDriverManager"
   ]
  },
  {
   "cell_type": "code",
   "execution_count": 2,
   "metadata": {},
   "outputs": [],
   "source": [
    "def pdfdownload(url,filename):\n",
    "    import urllib.request\n",
    "    pdf_path =url #\"http://distcourts.tap.nic.in/hcorders/2014/arbappl/arbappl_132_2014.pdf\"\n",
    "    response = urllib.request.urlopen(url)    \n",
    "    file = open(r\"E:/pdffiles/PdfDocument Scarping2/\"+filename+\".pdf\", 'wb')\n",
    "    file.write(response.read())\n",
    "    file.close()"
   ]
  },
  {
   "cell_type": "code",
   "execution_count": 3,
   "metadata": {},
   "outputs": [],
   "source": [
    "def Main(FromDate,ToDate):\n",
    "    driver=webdriver.Chrome(ChromeDriverManager().install())\n",
    "    driver.maximize_window()\n",
    "    driver.get(\"http://distcourts.tap.nic.in/judgmnt_ts/#\")\n",
    "\n",
    "    sleep(2)\n",
    "    \n",
    "    #/html/body/form/div/div[2]/div/div/div/div/div[2]/div/section/div/div[1]/div[5]/center/div/table/thead/tr[2]/td/input\n",
    "    driver.find_element_by_xpath(\"/html/body/form/div/div[2]/div/div/div/div/div[1]/section/div[1]/div[1]/div[2]/ul/li[4]/a\").click()\n",
    "    \n",
    "    #driver.find_element_by_id(\"txtPINCode\").clear()\n",
    "    driver.find_element_by_id(\"frmdto\").send_keys(FromDate)\n",
    "    #driver.find_element_by_xpath(\"/html/body/form/div/div[2]/div/div/div/div/div[2]/div/section/div/div[1]/div[5]/center/div/table/thead/tr[2]/td/input\").click()\n",
    "    driver.find_element_by_id(\"todto\").send_keys(ToDate)\n",
    "\n",
    "    driver.find_element_by_xpath(\"/html/body/form/div/div[2]/div/div/div/div/div[2]/div/section/div/div[1]/div[5]/center/div/table/thead/tr[4]/td/select/option[3]\").click()\n",
    "    sleep(2)\n",
    "\n",
    "    driver.find_element_by_id(\"searchtwofour\").click()\n",
    "\n",
    "    sleep(5)\n",
    "    page_source = driver.page_source\n",
    "    soup1 = BeautifulSoup(page_source, 'lxml')\n",
    "    type(soup1)\n",
    "    bs4.BeautifulSoup\n",
    "    title = soup1.title\n",
    "    \n",
    "    JUDGE_NAME_list=[]\n",
    "    CASE_NUMBER_list=[]\n",
    "    FILING_NUMBER_list=[]\n",
    "    TITLE_list=[]\n",
    "    DATE_OF_DECISION_list=[]\n",
    "    Status_list=[]\n",
    "    \n",
    "    \n",
    "\n",
    "\n",
    "    PDF_file_Table_tag=soup1.find_all(\"table\",{\"id\":\"inftable\"})[0]\n",
    "\n",
    "    tr_tag=PDF_file_Table_tag.find_all(\"tr\")\n",
    "    print(len(tr_tag))\n",
    "\n",
    "    for i in range(2,6):\n",
    "        td_tag1=tr_tag[i].find_all(\"td\")[0]\n",
    "        td_tag2=tr_tag[i].find_all(\"td\")[1]\n",
    "        td_tag3=tr_tag[i].find_all(\"td\")[2]\n",
    "        td_tag4=tr_tag[i].find_all(\"td\")[3]\n",
    "        td_tag5=tr_tag[i].find_all(\"td\")[4]\n",
    "\n",
    "        td_tag6=tr_tag[i].find_all(\"td\")[5]\n",
    "        JUDGE_NAME_list.append(td_tag1.text)\n",
    "        CASE_NUMBER_list.append(td_tag2.text)\n",
    "        FILING_NUMBER_list.append(td_tag3.text)\n",
    "        TITLE_list.append(td_tag4.text)\n",
    "        DATE_OF_DECISION_list.append(td_tag5.text)\n",
    "        \n",
    "        document=td_tag2.text\n",
    "        print(document)\n",
    "        try:\n",
    "          \n",
    "            a_tag_url=td_tag6.find(\"a\")[\"href\"]\n",
    "            Status_list.append(a_tag_url)\n",
    "            print(str(i-1)+\")\"+a_tag_url)\n",
    "            pdfdownload(a_tag_url,document.replace(\"/\",\" \"))\n",
    "            \n",
    "        except:\n",
    "            Status_list.append(\"NaN\")\n",
    "            \n",
    "            print(\"No Document\")\n",
    "            \n",
    "    df = pd.DataFrame(data={\"JUDGE_NAME:\":JUDGE_NAME_list,\"CASE_NUMBER\":CASE_NUMBER_list,\"FILING_NUMBER\":FILING_NUMBER_list,\"TITLE\":TITLE_list,\"DATE_OF_DECISION\":DATE_OF_DECISION_list,\"Status\":Status_list})\n",
    "    df.to_csv(r\"E:\\pdffiles\\csvfiles\\court.csv\", sep=',',index=False)\n",
    "    df.head(50)\n",
    "\n"
   ]
  },
  {
   "cell_type": "markdown",
   "metadata": {},
   "source": [
    "Main(\"11-02-2021\",\"12-02-2021\")"
   ]
  },
  {
   "cell_type": "code",
   "execution_count": null,
   "metadata": {},
   "outputs": [],
   "source": []
  },
  {
   "cell_type": "code",
   "execution_count": null,
   "metadata": {},
   "outputs": [],
   "source": []
  },
  {
   "cell_type": "code",
   "execution_count": null,
   "metadata": {},
   "outputs": [],
   "source": []
  }
 ],
 "metadata": {
  "kernelspec": {
   "display_name": "Python 3",
   "language": "python",
   "name": "python3"
  },
  "language_info": {
   "codemirror_mode": {
    "name": "ipython",
    "version": 3
   },
   "file_extension": ".py",
   "mimetype": "text/x-python",
   "name": "python",
   "nbconvert_exporter": "python",
   "pygments_lexer": "ipython3",
   "version": "3.8.3"
  }
 },
 "nbformat": 4,
 "nbformat_minor": 4
}
