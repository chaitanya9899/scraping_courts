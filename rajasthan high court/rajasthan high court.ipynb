{
 "cells": [
  {
   "cell_type": "code",
   "execution_count": 1,
   "metadata": {},
   "outputs": [],
   "source": [
    "import pandas as pd\n",
    "import numpy as np\n",
    "\n",
    "import bs4\n",
    "from urllib.request import urlopen\n",
    "from bs4 import BeautifulSoup\n",
    "\n",
    "from time import sleep\n",
    "from selenium import webdriver\n",
    "from selenium.webdriver.common.keys import Keys\n",
    "from webdriver_manager.chrome import ChromeDriverManager"
   ]
  },
  {
   "cell_type": "code",
   "execution_count": 2,
   "metadata": {},
   "outputs": [],
   "source": [
    "def pdfdownload(url,filename):\n",
    "    import urllib.request\n",
    "    pdf_path =url #\"http://distcourts.tap.nic.in/hcorders/2014/arbappl/arbappl_132_2014.pdf\"\n",
    "    response = urllib.request.urlopen(url)\n",
    "    file = open(r\"E:/pdffiles/PdfDocument Scarping2/\"+filename+\".pdf\", 'wb')\n",
    "    file.write(response.read())\n",
    "    file.close()\n",
    "    "
   ]
  },
  {
   "cell_type": "code",
   "execution_count": 3,
   "metadata": {},
   "outputs": [],
   "source": [
    "def Main(FromDate,ToDate):\n",
    "    driver=webdriver.Chrome(ChromeDriverManager().install())\n",
    "    driver.maximize_window()\n",
    "    driver.get(\"https://hcraj.nic.in/cishcraj-jp/JudgementFilters/\")\n",
    "\n",
    "    sleep(2)\n",
    "\n",
    "    #driver.find_element_by_xpath(\"/html/body/form/div/div[2]/div/div/div/div/div[1]/section/div[1]/div[1]/div[2]/ul/li[4]/a\").click()\n",
    "    #driver.find_element_by_id(\"txtPINCode\").clear()\n",
    "    #driver.find_element_by_id(\"partyFromDate\").send_keys(FromDate)\n",
    "    driver.find_element_by_xpath('//*[@id=\"partyFromDate\"]').send_keys(FromDate)\n",
    "    #driver.find_element_by_xpath(\"/html/body/form/div/div[2]/div/div/div/div/div[2]/div/section/div/div[1]/div[5]/center/div/table/thead/tr[2]/td/input\").click()\n",
    "    driver.find_element_by_id(\"partyToDate\").send_keys(ToDate)\n",
    "\n",
    "    #driver.find_element_by_xpath(\"/html/body/form/div/div[2]/div/div/div/div/div[2]/div/section/div/div[1]/div[5]/center/div/table/thead/tr[4]/td/select/option[3]\").click()\n",
    "    sleep(10)\n",
    "\n",
    "    driver.find_element_by_id(\"btncasedetail1_1\").click()\n",
    "\n",
    "    sleep(5)\n",
    "    page_source = driver.page_source\n",
    "    soup1 = BeautifulSoup(page_source, 'lxml')\n",
    "    type(soup1)\n",
    "    bs4.BeautifulSoup\n",
    "    title = soup1.title\n",
    "    \n",
    "    JUDGE_NAME_list=[]\n",
    "    CASE_NUMBER_list=[]\n",
    "    FILING_NUMBER_list=[]\n",
    "    TITLE_list=[]\n",
    "    DATE_OF_DECISION_list=[]\n",
    "    Status_list=[]\n",
    "    \n",
    "    \n",
    "\n",
    "\n",
    "    PDF_file_Table_tag=soup1.find_all(\"table\",{\"id\":\"sample_1\"})\n",
    "    print(PDF_file_Table_tag)\n",
    "\n",
    "    tr_tag=PDF_file_Table_tag.find_all(\"tr\")\n",
    "    print(len(tr_tag))\n",
    "\n",
    "    for i in range(2,len(tr_tag)):\n",
    "        td_tag1=tr_tag[i].find_all(\"td\")[0]\n",
    "        td_tag2=tr_tag[i].find_all(\"td\")[1]\n",
    "        td_tag3=tr_tag[i].find_all(\"td\")[2]\n",
    "        td_tag4=tr_tag[i].find_all(\"td\")[3]\n",
    "        td_tag5=tr_tag[i].find_all(\"td\")[4]\n",
    "\n",
    "        #td_tag6=tr_tag[i].find_all(\"td\")[5]\n",
    "        JUDGE_NAME_list.append(td_tag1.text)\n",
    "        CASE_NUMBER_list.append(td_tag2.text)\n",
    "        FILING_NUMBER_list.append(td_tag3.text)\n",
    "        TITLE_list.append(td_tag4.text)\n",
    "        DATE_OF_DECISION_list.append(td_tag5.text)\n",
    "        \n",
    "        document=td_tag2.text\n",
    "        print(document)\n",
    "        try:\n",
    "          \n",
    "            a_tag_url=td_tag6.find(\"a\")[\"href\"]\n",
    "            Status_list.append(a_tag_url)\n",
    "            print(str(i-1)+\")\"+a_tag_url)\n",
    "            pdfdownload(a_tag_url,document.replace(\"/\",\" \"))\n",
    "            \n",
    "        except:\n",
    "            Status_list.append(\"NaN\")\n",
    "            \n",
    "            print(\"No Document\")\n",
    "            \n",
    "    df = pd.DataFrame(data={\"JUDGE_NAME:\":JUDGE_NAME_list,\"CASE_NUMBER\":CASE_NUMBER_list,\"FILING_NUMBER\":FILING_NUMBER_list,\"TITLE\":TITLE_list,\"DATE_OF_DECISION\":DATE_OF_DECISION_list,\"Status\":Status_list})\n",
    "    df.to_csv(r\"E:\\pdffiles\\csvfiles\\court.csv\", sep=',',index=False)\n",
    "    df.head(50)\n",
    "\n"
   ]
  },
  {
   "cell_type": "code",
   "execution_count": 4,
   "metadata": {},
   "outputs": [
    {
     "name": "stderr",
     "output_type": "stream",
     "text": [
      "[WDM] - ====== WebDriver manager ======\n"
     ]
    },
    {
     "name": "stdout",
     "output_type": "stream",
     "text": [
      "\n",
      "\n"
     ]
    },
    {
     "name": "stderr",
     "output_type": "stream",
     "text": [
      "[WDM] - Current google-chrome version is 89.0.4389\n",
      "[WDM] - Get LATEST driver version for 89.0.4389\n",
      "[WDM] - Get LATEST driver version for 89.0.4389\n",
      "[WDM] - Trying to download new driver from https://chromedriver.storage.googleapis.com/89.0.4389.23/chromedriver_win32.zip\n",
      "[WDM] - Driver has been saved in cache [C:\\Users\\Acer\\.wdm\\drivers\\chromedriver\\win32\\89.0.4389.23]\n"
     ]
    },
    {
     "name": "stdout",
     "output_type": "stream",
     "text": [
      "[]\n"
     ]
    },
    {
     "ename": "AttributeError",
     "evalue": "ResultSet object has no attribute 'find_all'. You're probably treating a list of elements like a single element. Did you call find_all() when you meant to call find()?",
     "output_type": "error",
     "traceback": [
      "\u001b[1;31m---------------------------------------------------------------------------\u001b[0m",
      "\u001b[1;31mAttributeError\u001b[0m                            Traceback (most recent call last)",
      "\u001b[1;32m<ipython-input-4-52f9b23628b4>\u001b[0m in \u001b[0;36m<module>\u001b[1;34m\u001b[0m\n\u001b[1;32m----> 1\u001b[1;33m \u001b[0mMain\u001b[0m\u001b[1;33m(\u001b[0m\u001b[1;34m\"11/02/2020\"\u001b[0m\u001b[1;33m,\u001b[0m\u001b[1;34m\"12/02/2020\"\u001b[0m\u001b[1;33m)\u001b[0m\u001b[1;33m\u001b[0m\u001b[1;33m\u001b[0m\u001b[0m\n\u001b[0m",
      "\u001b[1;32m<ipython-input-3-7dc3701eb4ce>\u001b[0m in \u001b[0;36mMain\u001b[1;34m(FromDate, ToDate)\u001b[0m\n\u001b[0;32m     38\u001b[0m     \u001b[0mprint\u001b[0m\u001b[1;33m(\u001b[0m\u001b[0mPDF_file_Table_tag\u001b[0m\u001b[1;33m)\u001b[0m\u001b[1;33m\u001b[0m\u001b[1;33m\u001b[0m\u001b[0m\n\u001b[0;32m     39\u001b[0m \u001b[1;33m\u001b[0m\u001b[0m\n\u001b[1;32m---> 40\u001b[1;33m     \u001b[0mtr_tag\u001b[0m\u001b[1;33m=\u001b[0m\u001b[0mPDF_file_Table_tag\u001b[0m\u001b[1;33m.\u001b[0m\u001b[0mfind_all\u001b[0m\u001b[1;33m(\u001b[0m\u001b[1;34m\"tr\"\u001b[0m\u001b[1;33m)\u001b[0m\u001b[1;33m\u001b[0m\u001b[1;33m\u001b[0m\u001b[0m\n\u001b[0m\u001b[0;32m     41\u001b[0m     \u001b[0mprint\u001b[0m\u001b[1;33m(\u001b[0m\u001b[0mlen\u001b[0m\u001b[1;33m(\u001b[0m\u001b[0mtr_tag\u001b[0m\u001b[1;33m)\u001b[0m\u001b[1;33m)\u001b[0m\u001b[1;33m\u001b[0m\u001b[1;33m\u001b[0m\u001b[0m\n\u001b[0;32m     42\u001b[0m \u001b[1;33m\u001b[0m\u001b[0m\n",
      "\u001b[1;32m~\\anaconda3\\lib\\site-packages\\bs4\\element.py\u001b[0m in \u001b[0;36m__getattr__\u001b[1;34m(self, key)\u001b[0m\n\u001b[0;32m   2158\u001b[0m     \u001b[1;32mdef\u001b[0m \u001b[0m__getattr__\u001b[0m\u001b[1;33m(\u001b[0m\u001b[0mself\u001b[0m\u001b[1;33m,\u001b[0m \u001b[0mkey\u001b[0m\u001b[1;33m)\u001b[0m\u001b[1;33m:\u001b[0m\u001b[1;33m\u001b[0m\u001b[1;33m\u001b[0m\u001b[0m\n\u001b[0;32m   2159\u001b[0m         \u001b[1;34m\"\"\"Raise a helpful exception to explain a common code fix.\"\"\"\u001b[0m\u001b[1;33m\u001b[0m\u001b[1;33m\u001b[0m\u001b[0m\n\u001b[1;32m-> 2160\u001b[1;33m         raise AttributeError(\n\u001b[0m\u001b[0;32m   2161\u001b[0m             \u001b[1;34m\"ResultSet object has no attribute '%s'. You're probably treating a list of elements like a single element. Did you call find_all() when you meant to call find()?\"\u001b[0m \u001b[1;33m%\u001b[0m \u001b[0mkey\u001b[0m\u001b[1;33m\u001b[0m\u001b[1;33m\u001b[0m\u001b[0m\n\u001b[0;32m   2162\u001b[0m         )\n",
      "\u001b[1;31mAttributeError\u001b[0m: ResultSet object has no attribute 'find_all'. You're probably treating a list of elements like a single element. Did you call find_all() when you meant to call find()?"
     ]
    }
   ],
   "source": [
    "Main(\"11/02/2020\",\"12/02/2020\")"
   ]
  },
  {
   "cell_type": "code",
   "execution_count": null,
   "metadata": {},
   "outputs": [],
   "source": []
  },
  {
   "cell_type": "code",
   "execution_count": null,
   "metadata": {},
   "outputs": [],
   "source": []
  },
  {
   "cell_type": "code",
   "execution_count": null,
   "metadata": {},
   "outputs": [],
   "source": []
  },
  {
   "cell_type": "code",
   "execution_count": null,
   "metadata": {},
   "outputs": [],
   "source": []
  },
  {
   "cell_type": "code",
   "execution_count": null,
   "metadata": {},
   "outputs": [],
   "source": []
  },
  {
   "cell_type": "code",
   "execution_count": null,
   "metadata": {},
   "outputs": [],
   "source": []
  },
  {
   "cell_type": "code",
   "execution_count": null,
   "metadata": {},
   "outputs": [],
   "source": []
  },
  {
   "cell_type": "code",
   "execution_count": null,
   "metadata": {},
   "outputs": [],
   "source": []
  },
  {
   "cell_type": "code",
   "execution_count": null,
   "metadata": {},
   "outputs": [],
   "source": []
  },
  {
   "cell_type": "code",
   "execution_count": null,
   "metadata": {},
   "outputs": [],
   "source": []
  }
 ],
 "metadata": {
  "kernelspec": {
   "display_name": "Python 3",
   "language": "python",
   "name": "python3"
  },
  "language_info": {
   "codemirror_mode": {
    "name": "ipython",
    "version": 3
   },
   "file_extension": ".py",
   "mimetype": "text/x-python",
   "name": "python",
   "nbconvert_exporter": "python",
   "pygments_lexer": "ipython3",
   "version": "3.8.3"
  }
 },
 "nbformat": 4,
 "nbformat_minor": 4
}
