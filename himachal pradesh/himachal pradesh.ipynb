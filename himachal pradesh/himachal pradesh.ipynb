{
 "cells": [
  {
   "cell_type": "code",
   "execution_count": 53,
   "metadata": {},
   "outputs": [],
   "source": [
    "import pandas as pd\n",
    "import numpy as np\n",
    "\n",
    "import bs4\n",
    "from urllib.request import urlopen\n",
    "from bs4 import BeautifulSoup\n",
    "\n",
    "from time import sleep\n",
    "from selenium import webdriver\n",
    "from selenium.webdriver.common.keys import Keys\n",
    "from webdriver_manager.chrome import ChromeDriverManager"
   ]
  },
  {
   "cell_type": "markdown",
   "metadata": {},
   "source": [
    "# pdf download function"
   ]
  },
  {
   "cell_type": "code",
   "execution_count": 54,
   "metadata": {},
   "outputs": [],
   "source": [
    "def pdfdownload(url,filename):\n",
    "    import urllib.request\n",
    "    pdf_path =url \n",
    "    response = urllib.request.urlopen(url)    \n",
    "    file = open(r\"E:/pdffiles/PdfDocument Scarping2/\"+filename+\".pdf\", 'wb')\n",
    "    file.write(response.read())\n",
    "    file.close()"
   ]
  },
  {
   "cell_type": "code",
   "execution_count": null,
   "metadata": {},
   "outputs": [],
   "source": [
    "##main date and mutiple pages"
   ]
  },
  {
   "cell_type": "code",
   "execution_count": 55,
   "metadata": {},
   "outputs": [],
   "source": [
    "def Main(FromDate,ToDate):\n",
    "    driver=webdriver.Chrome(ChromeDriverManager().install())\n",
    "    driver.maximize_window()\n",
    "    driver.get(\"https://hphighcourt.nic.in/#\")\n",
    "\n",
    "    sleep(2)\n",
    "    #/html/body/div[2]/div[2]/div[1]/div/div/div[2]/ul[9]/li/a\n",
    "    #/html/body/form/div/div[2]/div/div/div/div/div[2]/div/section/div/div[1]/div[5]/center/div/table/thead/tr[2]/td/input\n",
    "    driver.find_element_by_xpath(\"/html/body/div[2]/div[2]/div[1]/div/div/div[2]/ul[9]/li/a\").click()\n",
    "    driver.find_element_by_xpath(\"/html/body/div[2]/div[2]/div[1]/div/div/div[2]/ul[9]/li/ul/li[5]/a\").click()\n",
    "    sleep(5)\n",
    "    #driver.find_element_by_id(\"txtPINCode\").clear()\n",
    "    driver.find_element_by_id(\"fromdate\").send_keys(FromDate)\n",
    "    #driver.find_element_by_xpath(\"/html/body/form/div/div[2]/div/div/div/div/div[2]/div/section/div/div[1]/div[5]/center/div/table/thead/tr[2]/td/input\").click()\n",
    "    driver.find_element_by_id(\"todate\").send_keys(ToDate)\n",
    "\n",
    "    #driver.find_element_by_xpath(\"/html/body/form/div/div[2]/div/div/div/div/div[2]/div/section/div/div[1]/div[5]/center/div/table/thead/tr[4]/td/select/option[3]\").click()\n",
    "    sleep(3)\n",
    "\n",
    "    #driver.find_element_by_class_name(\"btn button\").click()\n",
    "    driver.find_element_by_xpath(\"/html/body/div[2]/div/div/div[2]/div/fieldset/form/div[1]/table/tbody/tr/td[5]/input\").click()\n",
    "\n",
    "    sleep(10)\n",
    "    page_source = driver.page_source\n",
    "    soup1 = BeautifulSoup(page_source, 'lxml')\n",
    "    type(soup1)\n",
    "    bs4.BeautifulSoup\n",
    "    title = soup1.title\n",
    "    \n",
    "    case_no=[]\n",
    "    coram=[]\n",
    "    date=[]\n",
    "    download=[]\n",
    "    status=[]\n",
    "    \n",
    "    \n",
    "    \n",
    "\n",
    "\n",
    "    PDF_file_Table_tag=soup1.find_all(\"table\",{\"id\":\"output\"})[0]\n",
    "\n",
    "    tr_tag=PDF_file_Table_tag.find_all(\"tr\")\n",
    "    print(len(tr_tag))\n",
    "\n",
    "    for i in range(2,len(tr_tag)):\n",
    "        td_tag1=tr_tag[i].find_all(\"td\")[0]\n",
    "        td_tag2=tr_tag[i].find_all(\"td\")[1]\n",
    "        td_tag3=tr_tag[i].find_all(\"td\")[2]\n",
    "        td_tag4=tr_tag[i].find_all(\"td\")[3]\n",
    "        td_tag5=tr_tag[i].find_all(\"td\")[4]\n",
    "\n",
    "        \n",
    "        case_no.append(td_tag1.text)\n",
    "        coram.append(td_tag2.text)\n",
    "        date.append(td_tag3.text)\n",
    "        download.append(td_tag4.text)\n",
    "        status.append(td_tag5.text)\n",
    "        \n",
    "        document=td_tag1.text\n",
    "        print(document)\n",
    "        try:\n",
    "          \n",
    "            a_tag_url=td_tag4.find(\"a\")[\"href\"]\n",
    "            Status_list.append(a_tag_url)\n",
    "            print(str(i-1)+\")\"+a_tag_url)\n",
    "            pdfdownload(a_tag_url,document.replace(\"/\",\" \"))\n",
    "            \n",
    "        except:\n",
    "            Status_list.append(\"NaN\")\n",
    "            \n",
    "            print(\"No Document\")\n",
    "            \n",
    "    df = pd.DataFrame(data={\"Case_No:\":case_no,\"Coram\":coram,\"date\":date,\"download\":download,\"status\":status})\n",
    "    df.to_csv(r\"E:\\pdffiles\\csvfiles\\court.csv\", sep=',',index=False)\n",
    "    df.head(50)\n",
    "\n"
   ]
  },
  {
   "cell_type": "code",
   "execution_count": 56,
   "metadata": {},
   "outputs": [
    {
     "name": "stderr",
     "output_type": "stream",
     "text": [
      "[WDM] - ====== WebDriver manager ======\n",
      "[WDM] - Current google-chrome version is 89.0.4389\n",
      "[WDM] - Get LATEST driver version for 89.0.4389\n"
     ]
    },
    {
     "name": "stdout",
     "output_type": "stream",
     "text": [
      "\n",
      "\n"
     ]
    },
    {
     "name": "stderr",
     "output_type": "stream",
     "text": [
      "[WDM] - Driver [C:\\Users\\Acer\\.wdm\\drivers\\chromedriver\\win32\\89.0.4389.23\\chromedriver.exe] found in cache\n"
     ]
    },
    {
     "name": "stdout",
     "output_type": "stream",
     "text": [
      "11\n",
      "Order\n",
      "1)https://highcourt.hp.gov.in/cmis/casest/cis/generatenew.php?path=../../orders/orders/2020/&fname=230600021172020_1.pdf&smflag=N\n",
      "Order\n",
      "2)https://highcourt.hp.gov.in/cmis/casest/cis/generatenew.php?path=../../orders/orders/2020/&fname=200100051782020_3.pdf&smflag=N\n",
      "Order\n",
      "3)https://highcourt.hp.gov.in/cmis/casest/cis/generatenew.php?path=../../orders/orders/2019/&fname=202200000332019_35.pdf&smflag=N\n",
      "Order\n",
      "4)https://highcourt.hp.gov.in/cmis/casest/cis/generatenew.php?path=../../orders/orders/2020/&fname=200100049142020_3.pdf&smflag=N\n",
      "Order\n",
      "5)https://highcourt.hp.gov.in/cmis/casest/cis/generatenew.php?path=../../orders/orders/2020/&fname=230600021132020_1.pdf&smflag=N\n",
      "Order\n",
      "6)https://highcourt.hp.gov.in/cmis/casest/cis/generatenew.php?path=../../orders/orders/2020/&fname=200100051732020_2.pdf&smflag=N\n",
      "Order\n",
      "7)https://highcourt.hp.gov.in/cmis/casest/cis/generatenew.php?path=../../orders/orders/2020/&fname=200100055432020_1.pdf&smflag=N\n",
      "Order\n",
      "8)https://highcourt.hp.gov.in/cmis/casest/cis/generatenew.php?path=../../orders/orders/2020/&fname=202500000682020_1.pdf&smflag=N\n",
      "Order\n",
      "9)https://highcourt.hp.gov.in/cmis/casest/cis/generatenew.php?path=../../orders/orders/2020/&fname=200100040342020_7.pdf&smflag=N\n"
     ]
    }
   ],
   "source": [
    "Main(\"11/02/2020\",\"12/02/2020\")"
   ]
  },
  {
   "cell_type": "code",
   "execution_count": null,
   "metadata": {},
   "outputs": [],
   "source": []
  },
  {
   "cell_type": "code",
   "execution_count": null,
   "metadata": {},
   "outputs": [],
   "source": []
  }
 ],
 "metadata": {
  "kernelspec": {
   "display_name": "Python 3",
   "language": "python",
   "name": "python3"
  },
  "language_info": {
   "codemirror_mode": {
    "name": "ipython",
    "version": 3
   },
   "file_extension": ".py",
   "mimetype": "text/x-python",
   "name": "python",
   "nbconvert_exporter": "python",
   "pygments_lexer": "ipython3",
   "version": "3.8.3"
  }
 },
 "nbformat": 4,
 "nbformat_minor": 4
}
